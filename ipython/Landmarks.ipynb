{
 "metadata": {
  "name": "",
  "signature": "sha256:9ea4d18d1f03d3f2fa694882043ebf2ce833dcd32f22ebca3a0c1663c5f3a8ee"
 },
 "nbformat": 3,
 "nbformat_minor": 0,
 "worksheets": [
  {
   "cells": [
    {
     "cell_type": "code",
     "collapsed": false,
     "input": [
      "import pandas as pd\n",
      "import geopandas as gp\n",
      "import numpy as np\n",
      "import scipy.spatial as sc\n",
      "import networkx as nx\n",
      "from math import radians, cos, sin, asin, sqrt\n",
      "import random\n",
      "import numexpr as ne\n",
      "import glob\n",
      "from scipy.sparse import csr_matrix\n",
      "from scipy.sparse.csgraph import minimum_spanning_tree\n",
      "from scipy.sparse.csgraph import breadth_first_tree\n",
      "from scipy.sparse.csgraph import depth_first_tree"
     ],
     "language": "python",
     "metadata": {},
     "outputs": [],
     "prompt_number": 70
    },
    {
     "cell_type": "code",
     "collapsed": false,
     "input": [
      "def haversine(pt1, pt2):\n",
      "    \"\"\"\n",
      "    Calculate the great circle distance between two points \n",
      "    on the earth (specified in decimal degrees)\n",
      "    \"\"\"\n",
      "    lat1, lon1 = pt1\n",
      "    lat2, lon2 = pt2\n",
      "    # convert decimal degrees to radians \n",
      "    lon1, lat1, lon2, lat2 = map(radians, [lon1, lat1, lon2, lat2])\n",
      "\n",
      "    # haversine formula \n",
      "    dlon = lon2 - lon1 \n",
      "    dlat = lat2 - lat1 \n",
      "    a = sin(dlat/2)**2 + cos(lat1) * cos(lat2) * sin(dlon/2)**2\n",
      "    c = 2 * asin(sqrt(a)) \n",
      "    r = 6371 # Radius of earth in kilometers. Use 3956 for miles\n",
      "    return c * r"
     ],
     "language": "python",
     "metadata": {},
     "outputs": [],
     "prompt_number": 3
    },
    {
     "cell_type": "code",
     "collapsed": false,
     "input": [
      "lm_data = gp.GeoDataFrame()\n",
      "for file_name in glob.glob('arealm/AREALM/tl_2014_*.shp'):\n",
      "    lm_data = lm_data.append(gp.read_file(file_name))"
     ],
     "language": "python",
     "metadata": {},
     "outputs": [],
     "prompt_number": 85
    },
    {
     "cell_type": "code",
     "collapsed": false,
     "input": [
      "# codes = ['K2185', 'K2186', 'K2187', 'K2188', 'K2189', 'K2190', 'K2361', 'K2561', 'K2564', 'K2586', 'K2185', 'K2545']\n",
      "codes = ['K2361', 'K2564', 'K2362', 'K2300', 'K2586', 'K2545']\n",
      "filtered_landmarks = lm_data[lm_data.MTFCC.isin(codes)]\n",
      "print len(filtered_landmarks)\n",
      "filtered_landmarks = filtered_landmarks[filtered_landmarks['FULLNAME'] != 'Saddle Club Arena / Ballfieldsballfields and Saddle Club Arena']\n",
      "print len(filtered_landmarks)"
     ],
     "language": "python",
     "metadata": {},
     "outputs": [
      {
       "metadata": {},
       "output_type": "pyout",
       "prompt_number": 134,
       "text": [
        "876"
       ]
      }
     ],
     "prompt_number": 134
    },
    {
     "cell_type": "code",
     "collapsed": false,
     "input": [
      "points = zip(map(float, filtered_landmarks.INTPTLAT.tolist()), map(float, filtered_landmarks.INTPTLON.tolist()))\n",
      "kd_landmarks = sc.KDTree(points)"
     ],
     "language": "python",
     "metadata": {},
     "outputs": [],
     "prompt_number": 135
    },
    {
     "cell_type": "code",
     "collapsed": false,
     "input": [
      "point = [39.4667, -87.41391]\n",
      "print kd_landmarks.query(np.array(point), 4)\n",
      "point = [41.85003, -87.65005]\n",
      "print kd_landmarks.query(np.array(point), 4)"
     ],
     "language": "python",
     "metadata": {},
     "outputs": [
      {
       "output_type": "stream",
       "stream": "stdout",
       "text": [
        "(array([ 0.00724508,  0.06399412,  0.09154582,  0.47999715]), array([3302, 3305, 3281, 3266]))\n",
        "(array([ 0.02029344,  0.02433076,  0.02581989,  0.02774054]), array([3086, 3113, 3029, 3066]))\n"
       ]
      }
     ],
     "prompt_number": 124
    },
    {
     "cell_type": "code",
     "collapsed": false,
     "input": [
      "def get_interest(city):\n",
      "    point = [city['latitude'],city['longitude']]\n",
      "    neighbors = np.matrix(kd_landmarks.query(np.array(point), 10))\n",
      "    np.sum(np.divide(10.0,neighbors[0]))"
     ],
     "language": "python",
     "metadata": {},
     "outputs": [],
     "prompt_number": 136
    },
    {
     "cell_type": "code",
     "collapsed": false,
     "input": [
      "filtered_landmarks.drop_duplicates('FULLNAME').to_pickle('FilteredLandmarks.pickle')"
     ],
     "language": "python",
     "metadata": {},
     "outputs": [],
     "prompt_number": 167
    },
    {
     "cell_type": "code",
     "collapsed": false,
     "input": [
      "for x in filtered_landmarks.drop_duplicates('FULLNAME')['FULLNAME'].tolist():\n",
      "    if '/' in str(x):    \n",
      "         print x"
     ],
     "language": "python",
     "metadata": {},
     "outputs": [
      {
       "output_type": "stream",
       "stream": "stdout",
       "text": [
        "Saddle Club Arena / Ballfieldsballfields and Saddle Club Arena\n"
       ]
      }
     ],
     "prompt_number": 187
    },
    {
     "cell_type": "code",
     "collapsed": false,
     "input": [
      "filtered_landmarks[filtered_landmarks['FULLNAME'] != 'Saddle Club Arena / Ballfieldsballfields and Saddle Club Arena']"
     ],
     "language": "python",
     "metadata": {},
     "outputs": [
      {
       "html": [
        "<pre>\n",
        "&lt;class 'geopandas.geodataframe.GeoDataFrame'&gt;\n",
        "Int64Index: 875 entries, 517 to 130\n",
        "Data columns (total 11 columns):\n",
        "ALAND       875  non-null values\n",
        "ANSICODE    0  non-null values\n",
        "AREAID      875  non-null values\n",
        "AWATER      875  non-null values\n",
        "FULLNAME    803  non-null values\n",
        "INTPTLAT    875  non-null values\n",
        "INTPTLON    875  non-null values\n",
        "MTFCC       875  non-null values\n",
        "PARTFLG     875  non-null values\n",
        "STATEFP     875  non-null values\n",
        "geometry    875  non-null values\n",
        "dtypes: float64(2), object(9)\n",
        "</pre>"
       ],
       "metadata": {},
       "output_type": "pyout",
       "prompt_number": 188,
       "text": [
        "<class 'geopandas.geodataframe.GeoDataFrame'>\n",
        "Int64Index: 875 entries, 517 to 130\n",
        "Data columns (total 11 columns):\n",
        "ALAND       875  non-null values\n",
        "ANSICODE    0  non-null values\n",
        "AREAID      875  non-null values\n",
        "AWATER      875  non-null values\n",
        "FULLNAME    803  non-null values\n",
        "INTPTLAT    875  non-null values\n",
        "INTPTLON    875  non-null values\n",
        "MTFCC       875  non-null values\n",
        "PARTFLG     875  non-null values\n",
        "STATEFP     875  non-null values\n",
        "geometry    875  non-null values\n",
        "dtypes: float64(2), object(9)"
       ]
      }
     ],
     "prompt_number": 188
    },
    {
     "cell_type": "code",
     "collapsed": false,
     "input": [
      "str(None)"
     ],
     "language": "python",
     "metadata": {},
     "outputs": [
      {
       "metadata": {},
       "output_type": "pyout",
       "prompt_number": 162,
       "text": [
        "'None'"
       ]
      }
     ],
     "prompt_number": 162
    },
    {
     "cell_type": "code",
     "collapsed": false,
     "input": [],
     "language": "python",
     "metadata": {},
     "outputs": []
    }
   ],
   "metadata": {}
  }
 ]
}