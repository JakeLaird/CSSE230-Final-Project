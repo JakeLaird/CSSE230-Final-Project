{
 "metadata": {
  "name": "",
  "signature": "sha256:e015bf6565905c4100f3697d2870251c5ffd2e6b05aac55b272fad55b030b6bb"
 },
 "nbformat": 3,
 "nbformat_minor": 0,
 "worksheets": [
  {
   "cells": [
    {
     "cell_type": "code",
     "collapsed": false,
     "input": [
      "import pandas as pd\n",
      "import geopandas as gp\n",
      "import numpy as np\n",
      "import scipy.spatial as sc\n",
      "import networkx as nx\n",
      "from math import radians, cos, sin, asin, sqrt\n",
      "import random\n",
      "import numexpr as ne\n",
      "import glob\n",
      "from scipy.sparse import csr_matrix\n",
      "from scipy.sparse.csgraph import minimum_spanning_tree\n",
      "from scipy.sparse.csgraph import breadth_first_tree\n",
      "from scipy.sparse.csgraph import depth_first_tree"
     ],
     "language": "python",
     "metadata": {},
     "outputs": [],
     "prompt_number": 70
    },
    {
     "cell_type": "code",
     "collapsed": false,
     "input": [
      "def haversine(pt1, pt2):\n",
      "    \"\"\"\n",
      "    Calculate the great circle distance between two points \n",
      "    on the earth (specified in decimal degrees)\n",
      "    \"\"\"\n",
      "    lat1, lon1 = pt1\n",
      "    lat2, lon2 = pt2\n",
      "    # convert decimal degrees to radians \n",
      "    lon1, lat1, lon2, lat2 = map(radians, [lon1, lat1, lon2, lat2])\n",
      "\n",
      "    # haversine formula \n",
      "    dlon = lon2 - lon1 \n",
      "    dlat = lat2 - lat1 \n",
      "    a = sin(dlat/2)**2 + cos(lat1) * cos(lat2) * sin(dlon/2)**2\n",
      "    c = 2 * asin(sqrt(a)) \n",
      "    r = 6371 # Radius of earth in kilometers. Use 3956 for miles\n",
      "    return c * r"
     ],
     "language": "python",
     "metadata": {},
     "outputs": [],
     "prompt_number": 3
    },
    {
     "cell_type": "code",
     "collapsed": false,
     "input": [
      "lm_data = gp.GeoDataFrame()\n",
      "for file_name in glob.glob('arealm/AREALM/tl_2014_*.shp'):\n",
      "    lm_data = lm_data.append(gp.read_file(file_name))"
     ],
     "language": "python",
     "metadata": {},
     "outputs": [],
     "prompt_number": 85
    },
    {
     "cell_type": "code",
     "collapsed": false,
     "input": [
      "# codes = ['K2185', 'K2186', 'K2187', 'K2188', 'K2189', 'K2190', 'K2361', 'K2561', 'K2564', 'K2586', 'K2185', 'K2545']\n",
      "codes = ['K2361', 'K2564', 'K2362', 'K2300', 'K2586', 'K2545']\n",
      "filtered_landmarks = lm_data[lm_data.MTFCC.isin(codes)]\n",
      "print len(filtered_landmarks)\n",
      "filtered_landmarks = filtered_landmarks[filtered_landmarks['FULLNAME'] != 'Saddle Club Arena / Ballfieldsballfields and Saddle Club Arena']\n",
      "print len(filtered_landmarks)\n",
      "filtered_landmarks = filtered_landmarks.drop_duplicates('FULLNAME')\n",
      "print len(filtered_landmarks)"
     ],
     "language": "python",
     "metadata": {},
     "outputs": [
      {
       "output_type": "stream",
       "stream": "stdout",
       "text": [
        "876\n",
        "875\n",
        "715\n"
       ]
      }
     ],
     "prompt_number": 191
    },
    {
     "cell_type": "code",
     "collapsed": false,
     "input": [
      "points = zip(map(float, filtered_landmarks.INTPTLAT.tolist()), map(float, filtered_landmarks.INTPTLON.tolist()))\n",
      "kd_landmarks = sc.KDTree(points)"
     ],
     "language": "python",
     "metadata": {},
     "outputs": [],
     "prompt_number": 192
    },
    {
     "cell_type": "code",
     "collapsed": false,
     "input": [
      "point = [39.4667, -87.41391]\n",
      "print kd_landmarks.query(np.array(point), 4)\n",
      "point = [41.85003, -87.65005]\n",
      "kd_landmarks.query(np.array(point), 4)"
     ],
     "language": "python",
     "metadata": {},
     "outputs": [
      {
       "output_type": "stream",
       "stream": "stdout",
       "text": [
        "(array([ 0.32486812,  0.77513606,  0.77802991,  1.01322165]), array([415, 336, 314, 328]))\n"
       ]
      },
      {
       "metadata": {},
       "output_type": "pyout",
       "prompt_number": 197,
       "text": [
        "(array([ 0.02581989,  0.06158151,  0.09825039,  0.16055411]),\n",
        " array([348, 315, 390, 345]))"
       ]
      }
     ],
     "prompt_number": 197
    },
    {
     "cell_type": "code",
     "collapsed": false,
     "input": [
      "def get_interest(city):\n",
      "    point = [city['latitude'],city['longitude']]\n",
      "    neighbors = np.matrix(kd_landmarks.query(np.array(point), 10))\n",
      "    np.sum(np.divide(10.0,neighbors[0]))"
     ],
     "language": "python",
     "metadata": {},
     "outputs": [],
     "prompt_number": 194
    },
    {
     "cell_type": "code",
     "collapsed": false,
     "input": [
      "filtered_landmarks.to_pickle('FilteredLandmarks.pickle')"
     ],
     "language": "python",
     "metadata": {},
     "outputs": [],
     "prompt_number": 195
    },
    {
     "cell_type": "code",
     "collapsed": false,
     "input": [
      "for x in filtered_landmarks.drop_duplicates('FULLNAME')['FULLNAME'].tolist():\n",
      "    if '/' in str(x):    \n",
      "         print x"
     ],
     "language": "python",
     "metadata": {},
     "outputs": [],
     "prompt_number": 196
    },
    {
     "cell_type": "code",
     "collapsed": false,
     "input": [],
     "language": "python",
     "metadata": {},
     "outputs": []
    }
   ],
   "metadata": {}
  }
 ]
}