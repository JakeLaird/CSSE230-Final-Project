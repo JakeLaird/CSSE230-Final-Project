{
 "metadata": {
  "name": "",
  "signature": "sha256:3a41f4592680dac9d6a8edc27c6a0532f43bd648d16a65145910cee778d659ba"
 },
 "nbformat": 3,
 "nbformat_minor": 0,
 "worksheets": [
  {
   "cells": [
    {
     "cell_type": "code",
     "collapsed": false,
     "input": [
      "import pandas as pd\n",
      "import numpy as np\n",
      "import scipy.spatial as sc\n",
      "from math import radians, cos, sin, asin, sqrt\n",
      "import random\n",
      "from scipy.sparse import csr_matrix\n",
      "from scipy.sparse.csgraph import minimum_spanning_tree\n",
      "from scipy.sparse.csgraph import breadth_first_tree\n",
      "from scipy.sparse.csgraph import depth_first_tree\n",
      "import re"
     ],
     "language": "python",
     "metadata": {},
     "outputs": [],
     "prompt_number": 457
    },
    {
     "cell_type": "code",
     "collapsed": false,
     "input": [
      "def haversine(pt1, pt2):\n",
      "    \"\"\"\n",
      "    Calculate the great circle distance between two points \n",
      "    on the earth (specified in decimal degrees)\n",
      "    \"\"\"\n",
      "    lat1, lon1 = pt1\n",
      "    lat2, lon2 = pt2\n",
      "    # convert decimal degrees to radians \n",
      "    lon1, lat1, lon2, lat2 = map(radians, [lon1, lat1, lon2, lat2])\n",
      "\n",
      "    # haversine formula \n",
      "    dlon = lon2 - lon1 \n",
      "    dlat = lat2 - lat1 \n",
      "    a = sin(dlat/2)**2 + cos(lat1) * cos(lat2) * sin(dlon/2)**2\n",
      "    c = 2 * asin(sqrt(a)) \n",
      "    r = 6371 # Radius of earth in kilometers. Use 3956 for miles\n",
      "    return c * r"
     ],
     "language": "python",
     "metadata": {},
     "outputs": [],
     "prompt_number": 259
    },
    {
     "cell_type": "code",
     "collapsed": false,
     "input": [
      "cities = pd.read_csv('cities15000.txt',sep='\\t',names=['geonameid','name','asciiname','alternatenames','latitude','longitude','feature class','feature code','country code','cc2','admin1 code','admin2 code','admin3 code','admin4 code','population','elevation','dem','timezone','modification date'])"
     ],
     "language": "python",
     "metadata": {},
     "outputs": [],
     "prompt_number": 3
    },
    {
     "cell_type": "code",
     "collapsed": false,
     "input": [
      "us_cities = cities[cities['country code']=='US']\n",
      "us_cities_filtered = us_cities[~us_cities['asciiname'].str.contains(',')]\n",
      "us_cities_filtered = us_cities_filtered[~us_cities_filtered['asciiname'].str.contains('\\'')]\n",
      "us_cities_filtered = us_cities_filtered[us_cities_filtered['population']>60000]\n",
      "us_cities_filtered = us_cities_filtered[us_cities_filtered['admin1 code']!='AK']\n",
      "us_cities_filtered = us_cities_filtered[us_cities_filtered['admin1 code']!='HI']"
     ],
     "language": "python",
     "metadata": {},
     "outputs": [],
     "prompt_number": 4
    },
    {
     "cell_type": "code",
     "collapsed": false,
     "input": [
      "latlon = zip(us_cities_filtered['latitude'].tolist(), us_cities_filtered['longitude'].tolist())\n",
      "kd_cities = sc.KDTree(latlon)"
     ],
     "language": "python",
     "metadata": {},
     "outputs": [],
     "prompt_number": 5
    },
    {
     "cell_type": "code",
     "collapsed": false,
     "input": [
      "filtered_landmarks = pd.read_pickle('FilteredLandmarks.pickle')\n",
      "points = zip(map(float, filtered_landmarks.INTPTLAT.tolist()), map(float, filtered_landmarks.INTPTLON.tolist()))\n",
      "kd_landmarks = sc.KDTree(points)"
     ],
     "language": "python",
     "metadata": {},
     "outputs": [],
     "prompt_number": 171
    },
    {
     "cell_type": "code",
     "collapsed": false,
     "input": [
      "def city_to_uniq(city):\n",
      "    return city['asciiname'] + '_' + str(city['admin1 code'])"
     ],
     "language": "python",
     "metadata": {},
     "outputs": [],
     "prompt_number": 59
    },
    {
     "cell_type": "code",
     "collapsed": false,
     "input": [
      "def get_interest(city):\n",
      "    point =[float(city['latitude']),float(city['longitude'])]\n",
      "    neighbors = np.matrix(kd_landmarks.query(np.array(point), 10))\n",
      "    return np.sum(np.divide(5.0,neighbors[0])) + int(city['population'])/5000.0"
     ],
     "language": "python",
     "metadata": {},
     "outputs": [],
     "prompt_number": 175
    },
    {
     "cell_type": "code",
     "collapsed": false,
     "input": [
      "def get_nearest_cities(city):\n",
      "    point = [city['latitude'],city['longitude']]\n",
      "\n",
      "    nearest = kd_cities.query(np.array(point), k=2, eps=1.0)\n",
      "    \n",
      "    near_cities = us_cities_filtered.iloc[nearest[1][1:]]\n",
      "    f = lambda x: pd.Series(dict(name=city_to_uniq(x), distance=haversine(point, [x['latitude'], x['longitude']])))\n",
      "    return near_cities.apply(f, axis=1)"
     ],
     "language": "python",
     "metadata": {},
     "outputs": [],
     "prompt_number": 60
    },
    {
     "cell_type": "code",
     "collapsed": false,
     "input": [
      "graph = []\n",
      "for i in range(len(us_cities_filtered)):\n",
      "    graph.append([])\n",
      "    for j in range(len(us_cities_filtered)):\n",
      "        graph[i].append(0)"
     ],
     "language": "python",
     "metadata": {},
     "outputs": [],
     "prompt_number": 8
    },
    {
     "cell_type": "code",
     "collapsed": false,
     "input": [
      "for i in range(len(us_cities_filtered)):\n",
      "    for j in range(len(us_cities_filtered)):\n",
      "        x = us_cities_filtered.iloc[i]\n",
      "        y = us_cities_filtered.iloc[j]\n",
      "        graph[i][j] = haversine([x['latitude'], x['longitude']], [y['latitude'], y['longitude']])\n",
      "#         graph[i][j] = [[x['latitude'], x['longitude']], [y['latitude'], y['longitude']]]"
     ],
     "language": "python",
     "metadata": {},
     "outputs": [],
     "prompt_number": 260
    },
    {
     "cell_type": "code",
     "collapsed": false,
     "input": [
      "index_matrix = np.matrix(np.arange(len(us_cities_filtered)**2).reshape((len(us_cities_filtered),len(us_cities_filtered))))"
     ],
     "language": "python",
     "metadata": {},
     "outputs": [],
     "prompt_number": 261
    },
    {
     "cell_type": "code",
     "collapsed": false,
     "input": [
      "sin_matrix = (1.5 + 0.4*np.sin(index_matrix))\n",
      "cos_matrix = (1.5 + 0.4*np.cos(index_matrix))"
     ],
     "language": "python",
     "metadata": {},
     "outputs": [],
     "prompt_number": 262
    },
    {
     "cell_type": "code",
     "collapsed": false,
     "input": [
      "graphs = []\n",
      "graphs.append(minimum_spanning_tree(csr_matrix(graph)).toarray())\n",
      "graphs.append(minimum_spanning_tree(csr_matrix(np.multiply(np.matrix(graph),sin_matrix))).toarray())\n",
      "graphs.append(minimum_spanning_tree(csr_matrix(np.multiply(np.matrix(graph),cos_matrix))).toarray())"
     ],
     "language": "python",
     "metadata": {},
     "outputs": [],
     "prompt_number": 311
    },
    {
     "cell_type": "code",
     "collapsed": false,
     "input": [
      "formatted_cities = pd.DataFrame()\n",
      "for g in graphs:\n",
      "    for i in range(len(us_cities_filtered)):\n",
      "        temp = {}\n",
      "        city = us_cities_filtered.iloc[i]\n",
      "        temp['latitude'] = city['latitude']\n",
      "        temp['longitude'] = city['longitude']\n",
      "        temp['name'] = city_to_uniq(city)\n",
      "        city_connections = [[city, 0.0]]\n",
      "        for j in range(len(us_cities_filtered)):\n",
      "            if g[i][j] > 0:\n",
      "                y = us_cities_filtered.iloc[j]\n",
      "                city_connections.append([y, g[i][j]])\n",
      "        point = [city['latitude'],city['longitude']]\n",
      "        temp['neighbors'] = [[{'name': city_to_uniq(x[0]), 'cost': (1.2+0.2*sin(i))*x[1]}] for x in city_connections]\n",
      "        temp['interest'] = int(pow(get_interest(city),0.35))\n",
      "        formatted_cities = formatted_cities.append(pd.DataFrame(temp))"
     ],
     "language": "python",
     "metadata": {},
     "outputs": [],
     "prompt_number": 536
    },
    {
     "cell_type": "code",
     "collapsed": false,
     "input": [
      "def trim_duplicates(l):\n",
      "    connections = {}\n",
      "    for e in l:\n",
      "        if e['cost'] <= 0.0:\n",
      "            continue;\n",
      "        if e['name'] not in connections or connections[e['name']] > e['cost']:\n",
      "            connections[e['name']] = e['cost']\n",
      "    return connections\n",
      "            \n",
      "a = formatted_cities.groupby(['name', 'latitude', 'longitude', 'interest'])\n",
      "output_cities = pd.DataFrame([list(k)+[trim_duplicates(v[\"neighbors\"].sum())] for k, v in a],\n",
      "                     columns=['name', 'latitude', 'longitude', 'interest', 'neighbors'])"
     ],
     "language": "python",
     "metadata": {},
     "outputs": [],
     "prompt_number": 537
    },
    {
     "cell_type": "code",
     "collapsed": false,
     "input": [
      "a = 0\n",
      "cols = ['latitude', 'longitude', 'name', 'neighbors', 'interest']\n",
      "string_cities = []\n",
      "for k in output_cities[cols].iterrows():\n",
      "    row = k[1]\n",
      "    row['neighbors'] = ['<' + k + ',' + str(v) + '>' for k,v in row['neighbors'].iteritems()]\n",
      "    string_cities.append(str(row.tolist()).translate(None, '\\''))\n",
      "np.savetxt('USCities.txt', string_cities, fmt='%s')"
     ],
     "language": "python",
     "metadata": {},
     "outputs": [],
     "prompt_number": 538
    },
    {
     "cell_type": "code",
     "collapsed": false,
     "input": [
      "re.search('(\\[.*?)\\{', b).group(1)"
     ],
     "language": "python",
     "metadata": {},
     "outputs": [
      {
       "metadata": {},
       "output_type": "pyout",
       "prompt_number": 471,
       "text": [
        "'[Albany_NY, 42.65258, -73.75623, 4, '"
       ]
      }
     ],
     "prompt_number": 471
    },
    {
     "cell_type": "code",
     "collapsed": false,
     "input": [
      "a = []\n",
      "for i in range(len(us_cities_filtered)):\n",
      "    city = us_cities_filtered.iloc[i]\n",
      "    a.append(pow(get_interest(city),0.35))"
     ],
     "language": "python",
     "metadata": {},
     "outputs": [],
     "prompt_number": 202
    },
    {
     "cell_type": "code",
     "collapsed": false,
     "input": [
      "us_cities_filtered['interest'] = a\n",
      "us_cities_filtered.sort(columns='interest', ascending=False).head(1)"
     ],
     "language": "python",
     "metadata": {},
     "outputs": [
      {
       "html": [
        "<div style=\"max-height:1000px;max-width:1500px;overflow:auto;\">\n",
        "<table border=\"1\" class=\"dataframe\">\n",
        "  <thead>\n",
        "    <tr style=\"text-align: right;\">\n",
        "      <th></th>\n",
        "      <th>geonameid</th>\n",
        "      <th>name</th>\n",
        "      <th>asciiname</th>\n",
        "      <th>alternatenames</th>\n",
        "      <th>latitude</th>\n",
        "      <th>longitude</th>\n",
        "      <th>feature class</th>\n",
        "      <th>feature code</th>\n",
        "      <th>country code</th>\n",
        "      <th>cc2</th>\n",
        "      <th>admin1 code</th>\n",
        "      <th>admin2 code</th>\n",
        "      <th>admin3 code</th>\n",
        "      <th>admin4 code</th>\n",
        "      <th>population</th>\n",
        "      <th>elevation</th>\n",
        "      <th>dem</th>\n",
        "      <th>timezone</th>\n",
        "      <th>modification date</th>\n",
        "      <th>interest</th>\n",
        "    </tr>\n",
        "  </thead>\n",
        "  <tbody>\n",
        "    <tr>\n",
        "      <th>21913</th>\n",
        "      <td> 5391811</td>\n",
        "      <td> San Diego</td>\n",
        "      <td> San Diego</td>\n",
        "      <td> Didacopolis,Gorad San-Dyega,Lungsod ng San Die...</td>\n",
        "      <td> 32.71533</td>\n",
        "      <td>-117.15726</td>\n",
        "      <td> P</td>\n",
        "      <td> PPLA2</td>\n",
        "      <td> US</td>\n",
        "      <td> NaN</td>\n",
        "      <td> CA</td>\n",
        "      <td> 073</td>\n",
        "      <td> NaN</td>\n",
        "      <td> NaN</td>\n",
        "      <td> 1307402</td>\n",
        "      <td> 20</td>\n",
        "      <td> 31</td>\n",
        "      <td> America/Los_Angeles</td>\n",
        "      <td> 2014-10-27</td>\n",
        "      <td> 20.491389</td>\n",
        "    </tr>\n",
        "  </tbody>\n",
        "</table>\n",
        "</div>"
       ],
       "metadata": {},
       "output_type": "pyout",
       "prompt_number": 208,
       "text": [
        "       geonameid       name  asciiname  \\\n",
        "21913    5391811  San Diego  San Diego   \n",
        "\n",
        "                                          alternatenames  latitude  longitude  \\\n",
        "21913  Didacopolis,Gorad San-Dyega,Lungsod ng San Die...  32.71533 -117.15726   \n",
        "\n",
        "      feature class feature code country code  cc2 admin1 code admin2 code  \\\n",
        "21913             P        PPLA2           US  NaN          CA         073   \n",
        "\n",
        "      admin3 code admin4 code  population  elevation  dem  \\\n",
        "21913         NaN         NaN     1307402         20   31   \n",
        "\n",
        "                  timezone modification date   interest  \n",
        "21913  America/Los_Angeles        2014-10-27  20.491389  "
       ]
      }
     ],
     "prompt_number": 208
    },
    {
     "cell_type": "code",
     "collapsed": false,
     "input": [
      "A = np.array([[ 4.,  9., -3.],\n",
      "           [ 2.,  4., -2.],\n",
      "           [-2., -3.,  7.]])\n",
      "np.triu(A)."
     ],
     "language": "python",
     "metadata": {},
     "outputs": [
      {
       "metadata": {},
       "output_type": "pyout",
       "prompt_number": 534,
       "text": [
        "array([[ 4.,  9., -3.],\n",
        "       [ 0.,  4., -2.],\n",
        "       [ 0.,  0.,  7.]])"
       ]
      }
     ],
     "prompt_number": 534
    },
    {
     "cell_type": "code",
     "collapsed": false,
     "input": [],
     "language": "python",
     "metadata": {},
     "outputs": [],
     "prompt_number": 527
    },
    {
     "cell_type": "code",
     "collapsed": false,
     "input": [],
     "language": "python",
     "metadata": {},
     "outputs": []
    }
   ],
   "metadata": {}
  }
 ]
}