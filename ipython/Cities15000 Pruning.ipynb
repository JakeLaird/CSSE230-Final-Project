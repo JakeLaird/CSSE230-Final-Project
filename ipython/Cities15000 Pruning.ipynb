{
 "metadata": {
  "name": "",
  "signature": "sha256:b36c332646526b8c3bbaa319cf0254bcdb1cef0eeaa1e845d7a3d7723db7ae37"
 },
 "nbformat": 3,
 "nbformat_minor": 0,
 "worksheets": [
  {
   "cells": [
    {
     "cell_type": "code",
     "collapsed": false,
     "input": [
      "import pandas as pd\n",
      "import numpy as np\n",
      "import scipy.spatial as sc\n",
      "from math import radians, cos, sin, asin, sqrt\n",
      "import random\n",
      "from scipy.sparse import csr_matrix\n",
      "from scipy.sparse.csgraph import minimum_spanning_tree\n",
      "from scipy.sparse.csgraph import breadth_first_tree\n",
      "from scipy.sparse.csgraph import depth_first_tree"
     ],
     "language": "python",
     "metadata": {},
     "outputs": [],
     "prompt_number": 1
    },
    {
     "cell_type": "code",
     "collapsed": false,
     "input": [
      "def haversine(pt1, pt2):\n",
      "    \"\"\"\n",
      "    Calculate the great circle distance between two points \n",
      "    on the earth (specified in decimal degrees)\n",
      "    \"\"\"\n",
      "    lat1, lon1 = pt1\n",
      "    lat2, lon2 = pt2\n",
      "    # convert decimal degrees to radians \n",
      "    lon1, lat1, lon2, lat2 = map(radians, [lon1, lat1, lon2, lat2])\n",
      "\n",
      "    # haversine formula \n",
      "    dlon = lon2 - lon1 \n",
      "    dlat = lat2 - lat1 \n",
      "    a = sin(dlat/2)**2 + cos(lat1) * cos(lat2) * sin(dlon/2)**2\n",
      "    c = 2 * asin(sqrt(a)) \n",
      "    r = 6371 # Radius of earth in kilometers. Use 3956 for miles\n",
      "    return c * r"
     ],
     "language": "python",
     "metadata": {},
     "outputs": [],
     "prompt_number": 2
    },
    {
     "cell_type": "code",
     "collapsed": false,
     "input": [
      "cities = pd.read_csv('cities15000.txt',sep='\\t',names=['geonameid','name','asciiname','alternatenames','latitude','longitude','feature class','feature code','country code','cc2','admin1 code','admin2 code','admin3 code','admin4 code','population','elevation','dem','timezone','modification date'])"
     ],
     "language": "python",
     "metadata": {},
     "outputs": [],
     "prompt_number": 3
    },
    {
     "cell_type": "code",
     "collapsed": false,
     "input": [
      "us_cities = cities[cities['country code']=='US']\n",
      "us_cities_filtered = us_cities[~us_cities['asciiname'].str.contains(',')]\n",
      "us_cities_filtered = us_cities_filtered[~us_cities_filtered['asciiname'].str.contains('\\'')]\n",
      "us_cities_filtered = us_cities_filtered[us_cities_filtered['population']>60000]\n",
      "us_cities_filtered = us_cities_filtered[us_cities_filtered['admin1 code']!='AK']\n",
      "us_cities_filtered = us_cities_filtered[us_cities_filtered['admin1 code']!='HI']"
     ],
     "language": "python",
     "metadata": {},
     "outputs": [],
     "prompt_number": 4
    },
    {
     "cell_type": "code",
     "collapsed": false,
     "input": [
      "latlon = zip(us_cities_filtered['latitude'].tolist(), us_cities_filtered['longitude'].tolist())\n",
      "kd_cities = sc.KDTree(latlon)"
     ],
     "language": "python",
     "metadata": {},
     "outputs": [],
     "prompt_number": 5
    },
    {
     "cell_type": "code",
     "collapsed": false,
     "input": [
      "filtered_landmarks = pd.read_pickle('FilteredLandmarks.pickle')\n",
      "points = zip(map(float, filtered_landmarks.INTPTLAT.tolist()), map(float, filtered_landmarks.INTPTLON.tolist()))\n",
      "kd_landmarks = sc.KDTree(points)"
     ],
     "language": "python",
     "metadata": {},
     "outputs": [],
     "prompt_number": 72
    },
    {
     "cell_type": "code",
     "collapsed": false,
     "input": [
      "def city_to_uniq(city):\n",
      "    return city['asciiname'] + '_' + str(city['admin1 code'])"
     ],
     "language": "python",
     "metadata": {},
     "outputs": [],
     "prompt_number": 59
    },
    {
     "cell_type": "code",
     "collapsed": false,
     "input": [
      "def get_interest(city):\n",
      "    point =[float(city['latitude']),float(city['longitude'])]\n",
      "    neighbors = np.matrix(kd_landmarks.query(np.array(point), 10))\n",
      "    return np.sum(np.divide(10.0,neighbors[0]))"
     ],
     "language": "python",
     "metadata": {},
     "outputs": [],
     "prompt_number": 95
    },
    {
     "cell_type": "code",
     "collapsed": false,
     "input": [
      "def get_nearest_cities(city):\n",
      "    point = [city['latitude'],city['longitude']]\n",
      "\n",
      "    nearest = kd_cities.query(np.array(point), k=2, eps=1.0)\n",
      "    \n",
      "    near_cities = us_cities_filtered.iloc[nearest[1][1:]]\n",
      "    f = lambda x: pd.Series(dict(name=city_to_uniq(x), distance=haversine(point, [x['latitude'], x['longitude']])))\n",
      "    return near_cities.apply(f, axis=1)"
     ],
     "language": "python",
     "metadata": {},
     "outputs": [],
     "prompt_number": 60
    },
    {
     "cell_type": "code",
     "collapsed": false,
     "input": [
      "graph = []\n",
      "for i in range(len(us_cities_filtered)):\n",
      "    graph.append([])\n",
      "    for j in range(len(us_cities_filtered)):\n",
      "        graph[i].append(0)"
     ],
     "language": "python",
     "metadata": {},
     "outputs": [],
     "prompt_number": 8
    },
    {
     "cell_type": "code",
     "collapsed": false,
     "input": [
      "for i in range(len(us_cities_filtered)):\n",
      "    for j in range(len(us_cities_filtered)):\n",
      "        x = us_cities_filtered.iloc[i]\n",
      "        y = us_cities_filtered.iloc[j]\n",
      "        graph[i][j] = (1.0+0.25*sin(j))*haversine([x['latitude'], x['longitude']], [y['latitude'], y['longitude']])\n",
      "#         graph[i][j] = [[x['latitude'], x['longitude']], [y['latitude'], y['longitude']]]"
     ],
     "language": "python",
     "metadata": {},
     "outputs": [],
     "prompt_number": 31
    },
    {
     "cell_type": "code",
     "collapsed": false,
     "input": [
      "index_matrix = np.matrix(np.arange(len(us_cities_filtered)**2).reshape((len(us_cities_filtered),len(us_cities_filtered))))"
     ],
     "language": "python",
     "metadata": {},
     "outputs": [],
     "prompt_number": 61
    },
    {
     "cell_type": "code",
     "collapsed": false,
     "input": [
      "sin_matrix = (1.35 + 0.35*np.sin(index_matrix))\n",
      "cos_matrix = (1.35 + 0.35*np.cos(index_matrix))"
     ],
     "language": "python",
     "metadata": {},
     "outputs": [],
     "prompt_number": 62
    },
    {
     "cell_type": "code",
     "collapsed": false,
     "input": [
      "graphs = []\n",
      "# graphs.append(minimum_spanning_tree(csr_matrix(graph)).toarray())\n",
      "graphs.append(minimum_spanning_tree(csr_matrix(np.multiply(np.matrix(graph),sin_matrix))).toarray())\n",
      "graphs.append(minimum_spanning_tree(csr_matrix(np.multiply(np.matrix(graph),cos_matrix))).toarray())"
     ],
     "language": "python",
     "metadata": {},
     "outputs": [],
     "prompt_number": 111
    },
    {
     "cell_type": "code",
     "collapsed": false,
     "input": [
      "formatted_cities = []\n",
      "for g in graphs:\n",
      "    for i in range(len(us_cities_filtered)):\n",
      "        city = us_cities_filtered.iloc[i]\n",
      "        temp = '[' + str(city['latitude']) + ',' + str(city['longitude']) + ',' + city_to_uniq(city) + ','\n",
      "        city_connections = []\n",
      "        for j in range(len(us_cities_filtered)):\n",
      "            if g[i][j] > 0:\n",
      "                y = us_cities_filtered.iloc[j]\n",
      "                city_connections.append([y, g[i][j]])\n",
      "        point = [city['latitude'],city['longitude']]\n",
      "        temp += str(['<' + city_to_uniq(x[0]) + ',' + str(x[1]) + '>' for x in city_connections]).translate(None, '\\'')\n",
      "        temp += ',' + str(int(get_interest(x[0]))) + ']'\n",
      "        formatted_cities.append(temp)"
     ],
     "language": "python",
     "metadata": {},
     "outputs": [],
     "prompt_number": 115
    },
    {
     "cell_type": "code",
     "collapsed": false,
     "input": [
      "np.savetxt('USCities.txt', formatted_cities, fmt='%s')"
     ],
     "language": "python",
     "metadata": {},
     "outputs": [],
     "prompt_number": 116
    },
    {
     "cell_type": "code",
     "collapsed": false,
     "input": [
      "us_cities_filtered[us_cities_filtered['asciiname']=='Saint Paul']"
     ],
     "language": "python",
     "metadata": {},
     "outputs": [
      {
       "html": [
        "<div style=\"max-height:1000px;max-width:1500px;overflow:auto;\">\n",
        "<table border=\"1\" class=\"dataframe\">\n",
        "  <thead>\n",
        "    <tr style=\"text-align: right;\">\n",
        "      <th></th>\n",
        "      <th>geonameid</th>\n",
        "      <th>name</th>\n",
        "      <th>asciiname</th>\n",
        "      <th>alternatenames</th>\n",
        "      <th>latitude</th>\n",
        "      <th>longitude</th>\n",
        "      <th>feature class</th>\n",
        "      <th>feature code</th>\n",
        "      <th>country code</th>\n",
        "      <th>cc2</th>\n",
        "      <th>admin1 code</th>\n",
        "      <th>admin2 code</th>\n",
        "      <th>admin3 code</th>\n",
        "      <th>admin4 code</th>\n",
        "      <th>population</th>\n",
        "      <th>elevation</th>\n",
        "      <th>dem</th>\n",
        "      <th>timezone</th>\n",
        "      <th>modification date</th>\n",
        "    </tr>\n",
        "  </thead>\n",
        "  <tbody>\n",
        "    <tr>\n",
        "      <th>21107</th>\n",
        "      <td> 5045360</td>\n",
        "      <td> Saint Paul</td>\n",
        "      <td> Saint Paul</td>\n",
        "      <td> Gorad Sent-Pol,Saint Paul,Saint Pol,San Pablo,...</td>\n",
        "      <td> 44.94441</td>\n",
        "      <td>-93.09327</td>\n",
        "      <td> P</td>\n",
        "      <td> PPLA</td>\n",
        "      <td> US</td>\n",
        "      <td> NaN</td>\n",
        "      <td> MN</td>\n",
        "      <td> 123</td>\n",
        "      <td> NaN</td>\n",
        "      <td> NaN</td>\n",
        "      <td> 285068</td>\n",
        "      <td> 242</td>\n",
        "      <td> 242</td>\n",
        "      <td> America/Chicago</td>\n",
        "      <td> 2011-05-14</td>\n",
        "    </tr>\n",
        "  </tbody>\n",
        "</table>\n",
        "</div>"
       ],
       "metadata": {},
       "output_type": "pyout",
       "prompt_number": 109,
       "text": [
        "       geonameid        name   asciiname  \\\n",
        "21107    5045360  Saint Paul  Saint Paul   \n",
        "\n",
        "                                          alternatenames  latitude  longitude  \\\n",
        "21107  Gorad Sent-Pol,Saint Paul,Saint Pol,San Pablo,...  44.94441  -93.09327   \n",
        "\n",
        "      feature class feature code country code  cc2 admin1 code admin2 code  \\\n",
        "21107             P         PPLA           US  NaN          MN         123   \n",
        "\n",
        "      admin3 code admin4 code  population  elevation  dem         timezone  \\\n",
        "21107         NaN         NaN      285068        242  242  America/Chicago   \n",
        "\n",
        "      modification date  \n",
        "21107        2011-05-14  "
       ]
      }
     ],
     "prompt_number": 109
    },
    {
     "cell_type": "code",
     "collapsed": false,
     "input": [],
     "language": "python",
     "metadata": {},
     "outputs": [
      {
       "metadata": {},
       "output_type": "pyout",
       "prompt_number": 90,
       "text": [
        "[41.85003, -87.65005]"
       ]
      }
     ],
     "prompt_number": 90
    },
    {
     "cell_type": "code",
     "collapsed": false,
     "input": [],
     "language": "python",
     "metadata": {},
     "outputs": []
    }
   ],
   "metadata": {}
  }
 ]
}