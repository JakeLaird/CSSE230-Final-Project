{
 "metadata": {
  "name": "",
  "signature": "sha256:38ca680a3a6442297f01f000a8514aeda37ed94518960cb09558ed50faf3e4a2"
 },
 "nbformat": 3,
 "nbformat_minor": 0,
 "worksheets": [
  {
   "cells": [
    {
     "cell_type": "code",
     "collapsed": false,
     "input": [
      "import pandas as pd\n",
      "import numpy as np\n",
      "import scipy.spatial as sc\n",
      "from math import radians, cos, sin, asin, sqrt\n",
      "import random\n",
      "from scipy.sparse import csr_matrix\n",
      "from scipy.sparse.csgraph import minimum_spanning_tree\n",
      "from scipy.sparse.csgraph import breadth_first_tree\n",
      "from scipy.sparse.csgraph import depth_first_tree"
     ],
     "language": "python",
     "metadata": {},
     "outputs": [],
     "prompt_number": 1
    },
    {
     "cell_type": "code",
     "collapsed": false,
     "input": [
      "def haversine(pt1, pt2):\n",
      "    \"\"\"\n",
      "    Calculate the great circle distance between two points \n",
      "    on the earth (specified in decimal degrees)\n",
      "    \"\"\"\n",
      "    lat1, lon1 = pt1\n",
      "    lat2, lon2 = pt2\n",
      "    # convert decimal degrees to radians \n",
      "    lon1, lat1, lon2, lat2 = map(radians, [lon1, lat1, lon2, lat2])\n",
      "\n",
      "    # haversine formula \n",
      "    dlon = lon2 - lon1 \n",
      "    dlat = lat2 - lat1 \n",
      "    a = sin(dlat/2)**2 + cos(lat1) * cos(lat2) * sin(dlon/2)**2\n",
      "    c = 2 * asin(sqrt(a)) \n",
      "    r = 6371 # Radius of earth in kilometers. Use 3956 for miles\n",
      "    return c * r"
     ],
     "language": "python",
     "metadata": {},
     "outputs": [],
     "prompt_number": 2
    },
    {
     "cell_type": "code",
     "collapsed": false,
     "input": [
      "cities = pd.read_csv('cities15000.txt',sep='\\t',names=['geonameid','name','asciiname','alternatenames','latitude','longitude','feature class','feature code','country code','cc2','admin1 code','admin2 code','admin3 code','admin4 code','population','elevation','dem','timezone','modification date'])"
     ],
     "language": "python",
     "metadata": {},
     "outputs": [],
     "prompt_number": 3
    },
    {
     "cell_type": "code",
     "collapsed": false,
     "input": [
      "us_cities = cities[cities['country code']=='US']\n",
      "us_cities_filtered = us_cities[~us_cities['asciiname'].str.contains(',')]\n",
      "us_cities_filtered = us_cities_filtered[~us_cities_filtered['asciiname'].str.contains('\\'')]\n",
      "us_cities_filtered = us_cities_filtered[us_cities_filtered['population']>60000]\n",
      "us_cities_filtered = us_cities_filtered[us_cities_filtered['admin1 code']!='AK']\n",
      "us_cities_filtered = us_cities_filtered[us_cities_filtered['admin1 code']!='HI']"
     ],
     "language": "python",
     "metadata": {},
     "outputs": [],
     "prompt_number": 4
    },
    {
     "cell_type": "code",
     "collapsed": false,
     "input": [
      "latlon = zip(us_cities_filtered['latitude'].tolist(), us_cities_filtered['longitude'].tolist())\n",
      "kd_cities = sc.KDTree(latlon)"
     ],
     "language": "python",
     "metadata": {},
     "outputs": [],
     "prompt_number": 5
    },
    {
     "cell_type": "code",
     "collapsed": false,
     "input": [
      "def city_to_uniq(city):\n",
      "    return city['asciiname'] + '_' + str(city['admin1 code'])"
     ],
     "language": "python",
     "metadata": {},
     "outputs": [],
     "prompt_number": 59
    },
    {
     "cell_type": "code",
     "collapsed": false,
     "input": [
      "def get_nearest_cities(city):\n",
      "    point = [city['latitude'],city['longitude']]\n",
      "\n",
      "    nearest = kd_cities.query(np.array(point), k=2, eps=1.0)\n",
      "    \n",
      "    near_cities = us_cities_filtered.iloc[nearest[1][1:]]\n",
      "    f = lambda x: pd.Series(dict(name=city_to_uniq(x), distance=haversine(point, [x['latitude'], x['longitude']])))\n",
      "    return near_cities.apply(f, axis=1)"
     ],
     "language": "python",
     "metadata": {},
     "outputs": [],
     "prompt_number": 60
    },
    {
     "cell_type": "code",
     "collapsed": false,
     "input": [
      "graph = []\n",
      "for i in range(len(us_cities_filtered)):\n",
      "    graph.append([])\n",
      "    for j in range(len(us_cities_filtered)):\n",
      "        graph[i].append(0)"
     ],
     "language": "python",
     "metadata": {},
     "outputs": [],
     "prompt_number": 8
    },
    {
     "cell_type": "code",
     "collapsed": false,
     "input": [
      "for i in range(len(us_cities_filtered)):\n",
      "    for j in range(len(us_cities_filtered)):\n",
      "        x = us_cities_filtered.iloc[i]\n",
      "        y = us_cities_filtered.iloc[j]\n",
      "        graph[i][j] = (1.0+0.25*sin(j))*haversine([x['latitude'], x['longitude']], [y['latitude'], y['longitude']])\n",
      "#         graph[i][j] = [[x['latitude'], x['longitude']], [y['latitude'], y['longitude']]]"
     ],
     "language": "python",
     "metadata": {},
     "outputs": [],
     "prompt_number": 31
    },
    {
     "cell_type": "code",
     "collapsed": false,
     "input": [
      "index_matrix = np.matrix(np.arange(len(us_cities_filtered)**2).reshape((len(us_cities_filtered),len(us_cities_filtered))))"
     ],
     "language": "python",
     "metadata": {},
     "outputs": [],
     "prompt_number": 61
    },
    {
     "cell_type": "code",
     "collapsed": false,
     "input": [
      "sin_matrix = (1.35 + 0.35*np.sin(index_matrix))\n",
      "cos_matrix = (1.35 + 0.35*np.cos(index_matrix))"
     ],
     "language": "python",
     "metadata": {},
     "outputs": [],
     "prompt_number": 62
    },
    {
     "cell_type": "code",
     "collapsed": false,
     "input": [
      "graphs = []\n",
      "# graphs.append(minimum_spanning_tree(csr_matrix(graph)).toarray())\n",
      "graphs.append(minimum_spanning_tree(csr_matrix(np.multiply(np.matrix(graph),sin_matrix))).toarray())\n",
      "graphs.append(minimum_spanning_tree(csr_matrix(np.multiply(np.matrix(graph),cos_matrix))).toarray())"
     ],
     "language": "python",
     "metadata": {},
     "outputs": [],
     "prompt_number": 63
    },
    {
     "cell_type": "code",
     "collapsed": false,
     "input": [
      "formatted_cities = []\n",
      "for g in graphs:\n",
      "    for i in range(len(us_cities_filtered)):\n",
      "        city = us_cities_filtered.iloc[i]\n",
      "        temp = '[' + str(city['latitude']) + ',' + str(city['longitude']) + ',' + city_to_uniq(city) + ','\n",
      "        city_connections = []\n",
      "        for j in range(len(us_cities_filtered)):\n",
      "            if g[i][j] > 0:\n",
      "                y = us_cities_filtered.iloc[j]\n",
      "                city_connections.append([y, g[i][j]])\n",
      "        point = [city['latitude'],city['longitude']]\n",
      "        temp += str(['<' + city_to_uniq(x[0]) + ',' + str(x[1]) + '>' for x in city_connections]).translate(None, '\\'')\n",
      "        temp += ',0]'\n",
      "        formatted_cities.append(temp)"
     ],
     "language": "python",
     "metadata": {},
     "outputs": [],
     "prompt_number": 64
    },
    {
     "cell_type": "code",
     "collapsed": false,
     "input": [
      "np.savetxt('USCities.txt', formatted_cities, fmt='%s')"
     ],
     "language": "python",
     "metadata": {},
     "outputs": [],
     "prompt_number": 65
    },
    {
     "cell_type": "code",
     "collapsed": false,
     "input": [],
     "language": "python",
     "metadata": {},
     "outputs": []
    }
   ],
   "metadata": {}
  }
 ]
}