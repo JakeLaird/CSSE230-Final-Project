{
 "metadata": {
  "name": ""
 },
 "nbformat": 3,
 "nbformat_minor": 0,
 "worksheets": [
  {
   "cells": [
    {
     "cell_type": "code",
     "collapsed": false,
     "input": [
      "import pandas as pd\n",
      "import numpy as np\n",
      "import scipy.spatial as sc\n",
      "from math import radians, cos, sin, asin, sqrt\n",
      "import random"
     ],
     "language": "python",
     "metadata": {},
     "outputs": [],
     "prompt_number": 291
    },
    {
     "cell_type": "code",
     "collapsed": false,
     "input": [
      "def haversine(pt1, pt2):\n",
      "    \"\"\"\n",
      "    Calculate the great circle distance between two points \n",
      "    on the earth (specified in decimal degrees)\n",
      "    \"\"\"\n",
      "    lat1, lon1 = pt1\n",
      "    lat2, lon2 = pt2\n",
      "    # convert decimal degrees to radians \n",
      "    lon1, lat1, lon2, lat2 = map(radians, [lon1, lat1, lon2, lat2])\n",
      "\n",
      "    # haversine formula \n",
      "    dlon = lon2 - lon1 \n",
      "    dlat = lat2 - lat1 \n",
      "    a = sin(dlat/2)**2 + cos(lat1) * cos(lat2) * sin(dlon/2)**2\n",
      "    c = 2 * asin(sqrt(a)) \n",
      "    r = 6371 # Radius of earth in kilometers. Use 3956 for miles\n",
      "    return c * r"
     ],
     "language": "python",
     "metadata": {},
     "outputs": [],
     "prompt_number": 167
    },
    {
     "cell_type": "code",
     "collapsed": false,
     "input": [
      "cities = pd.read_csv('cities15000.txt',sep='\\t',names=['geonameid','name','asciiname','alternatenames','latitude','longitude','feature class','feature code','country code','cc2','admin1 code','admin2 code','admin3 code','admin4 code','population','elevation','dem','timezone','modification date'])"
     ],
     "language": "python",
     "metadata": {},
     "outputs": [],
     "prompt_number": 17
    },
    {
     "cell_type": "code",
     "collapsed": false,
     "input": [
      "us_cities = cities[cities['country code']=='US']\n",
      "us_cities_filtered = us_cities[~us_cities['asciiname'].str.contains(',')]\n",
      "us_cities_filtered = us_cities_filtered[~us_cities_filtered['asciiname'].str.contains('\\'')]\n",
      "us_cities_filtered = us_cities_filtered[us_cities_filtered['population']>60000]\n",
      "us_cities_filtered = us_cities_filtered[us_cities_filtered['admin1 code']!='AK']\n",
      "us_cities_filtered = us_cities_filtered[us_cities_filtered['admin1 code']!='HI']"
     ],
     "language": "python",
     "metadata": {},
     "outputs": [],
     "prompt_number": 242
    },
    {
     "cell_type": "code",
     "collapsed": false,
     "input": [
      "latlon = zip(us_cities_filtered['latitude'].tolist(), us_cities_filtered['longitude'].tolist())\n",
      "kd_cities = sc.KDTree(latlon)"
     ],
     "language": "python",
     "metadata": {},
     "outputs": [],
     "prompt_number": 243
    },
    {
     "cell_type": "code",
     "collapsed": false,
     "input": [
      "def city_to_uniq(city):\n",
      "    return city['asciiname'] + '_' + str(int(city['longitude']))"
     ],
     "language": "python",
     "metadata": {},
     "outputs": [],
     "prompt_number": 244
    },
    {
     "cell_type": "code",
     "collapsed": false,
     "input": [
      "def get_nearest_cities(city):\n",
      "    near_count = 0\n",
      "    distance = 0.01\n",
      "    point = [city['latitude'],city['longitude']]\n",
      "        \n",
      "    while near_count < 5:\n",
      "        near_count = kd_cities.count_neighbors(sc.KDTree([point]), distance, 1)\n",
      "        distance += 0.05\n",
      "        \n",
      "    nearest = kd_cities.query(np.array(point), k=near_count, distance_upper_bound=distance+1)\n",
      "#     print nearest\n",
      "#     print distance\n",
      "    near_cities = us_cities_filtered.iloc[nearest[1][1:]]\n",
      "    f = lambda x: '<' + city_to_uniq(x) + ',' + str(haversine(point, [x['latitude'], x['longitude']])) + '>'\n",
      "    return str(near_cities.apply(f, axis=1).tolist()).translate(None, '\\'')"
     ],
     "language": "python",
     "metadata": {},
     "outputs": [],
     "prompt_number": 249
    },
    {
     "cell_type": "code",
     "collapsed": false,
     "input": [
      "def city_to_string(x):\n",
      "    return '[' + str(x['latitude']) + ',' + str(x['longitude']) + ',' + city_to_uniq(x) + ',' + str(get_nearest_cities(x)) + ',0]'\n",
      "\n",
      "cities_formatted = us_cities_filtered.apply(city_to_string,axis=1).tolist()\n",
      "np.savetxt('USCities.txt', cities_formatted, fmt='%s')"
     ],
     "language": "python",
     "metadata": {},
     "outputs": [],
     "prompt_number": 250
    },
    {
     "cell_type": "code",
     "collapsed": false,
     "input": [
      "import collections\n",
      "a = us_cities_filtered.apply(city_to_uniq, axis=1).tolist()\n",
      "# [x for x, y in collections.Counter(a).items() if y > 1]"
     ],
     "language": "python",
     "metadata": {},
     "outputs": [
      {
       "metadata": {},
       "output_type": "pyout",
       "prompt_number": 235,
       "text": [
        "['Kansas City_-94']"
       ]
      }
     ],
     "prompt_number": 235
    },
    {
     "cell_type": "code",
     "collapsed": false,
     "input": [
      "def get_neighbors(city, number):\n",
      "    point = [city['latitude'],city['longitude']]\n",
      "    query = kd_cities.query(np.array(point), eps=1.0, k=number)\n",
      "#     print query\n",
      "    return query[1][1:]"
     ],
     "language": "python",
     "metadata": {},
     "outputs": [],
     "prompt_number": 456
    },
    {
     "cell_type": "code",
     "collapsed": false,
     "input": [
      "edges = {}\n",
      "connections_count = {}\n",
      "for i in range(len(us_cities_filtered)):\n",
      "    connections_count[i] = 0\n",
      "    edges[i] = []\n",
      "route = []\n",
      "city = 74\n",
      "num_neighbors = 3\n",
      "max_connections = 3\n",
      "for i in range(10000):\n",
      "    neighbors = get_neighbors(us_cities_filtered.iloc[city], num_neighbors)\n",
      "    if 585 in neighbors:\n",
      "        max_connections += 1\n",
      "        num_neighbors = 3\n",
      "        continue\n",
      "        \n",
      "    temp = neighbors.tolist()\n",
      "    for n in neighbors:\n",
      "        if n in edges[city] or connections_count[n] > max_connections:\n",
      "            temp.remove(n)\n",
      "    neighbors = temp\n",
      "    \n",
      "    if len(neighbors) == 0:\n",
      "        num_neighbors+=1\n",
      "        continue\n",
      "    num_neighbors = 3\n",
      "    nextNeighbor = neighbors[0]\n",
      "    edges[city].append(nextNeighbor)\n",
      "    \n",
      "    edges[nextNeighbor].append(city)\n",
      "    route.append(city)\n",
      "#     print str(city) + '[' + str(neighbors) + ']'\n",
      "    connections_count[nextNeighbor] += 1\n",
      "    connections_count[city] += 1\n",
      "    city = nextNeighbor"
     ],
     "language": "python",
     "metadata": {},
     "outputs": [
      {
       "ename": "KeyError",
       "evalue": "585",
       "output_type": "pyerr",
       "traceback": [
        "\u001b[1;31m---------------------------------------------------------------------------\u001b[0m\n\u001b[1;31mKeyError\u001b[0m                                  Traceback (most recent call last)",
        "\u001b[1;32m<ipython-input-486-7bb86c4724b6>\u001b[0m in \u001b[0;36m<module>\u001b[1;34m()\u001b[0m\n\u001b[0;32m     12\u001b[0m     \u001b[0mtemp\u001b[0m \u001b[1;33m=\u001b[0m \u001b[0mneighbors\u001b[0m\u001b[1;33m.\u001b[0m\u001b[0mtolist\u001b[0m\u001b[1;33m(\u001b[0m\u001b[1;33m)\u001b[0m\u001b[1;33m\u001b[0m\u001b[0m\n\u001b[0;32m     13\u001b[0m     \u001b[1;32mfor\u001b[0m \u001b[0mn\u001b[0m \u001b[1;32min\u001b[0m \u001b[0mneighbors\u001b[0m\u001b[1;33m:\u001b[0m\u001b[1;33m\u001b[0m\u001b[0m\n\u001b[1;32m---> 14\u001b[1;33m         \u001b[1;32mif\u001b[0m \u001b[0mn\u001b[0m \u001b[1;32min\u001b[0m \u001b[0medges\u001b[0m\u001b[1;33m[\u001b[0m\u001b[0mcity\u001b[0m\u001b[1;33m]\u001b[0m \u001b[1;32mor\u001b[0m \u001b[0mconnections_count\u001b[0m\u001b[1;33m[\u001b[0m\u001b[0mn\u001b[0m\u001b[1;33m]\u001b[0m \u001b[1;33m>\u001b[0m \u001b[1;36m3\u001b[0m\u001b[1;33m:\u001b[0m\u001b[1;33m\u001b[0m\u001b[0m\n\u001b[0m\u001b[0;32m     15\u001b[0m             \u001b[0mtemp\u001b[0m\u001b[1;33m.\u001b[0m\u001b[0mremove\u001b[0m\u001b[1;33m(\u001b[0m\u001b[0mn\u001b[0m\u001b[1;33m)\u001b[0m\u001b[1;33m\u001b[0m\u001b[0m\n\u001b[0;32m     16\u001b[0m     \u001b[0mneighbors\u001b[0m \u001b[1;33m=\u001b[0m \u001b[0mtemp\u001b[0m\u001b[1;33m\u001b[0m\u001b[0m\n",
        "\u001b[1;31mKeyError\u001b[0m: 585"
       ]
      }
     ],
     "prompt_number": 486
    },
    {
     "cell_type": "code",
     "collapsed": false,
     "input": [
      "us_cities_filtered.iloc[city]"
     ],
     "language": "python",
     "metadata": {},
     "outputs": [
      {
       "metadata": {},
       "output_type": "pyout",
       "prompt_number": 491,
       "text": [
        "geonameid                                                      4975802\n",
        "name                                                          Portland\n",
        "asciiname                                                     Portland\n",
        "alternatenames       Gorad Portlend,PWM,Portland,Portland i Maine,P...\n",
        "latitude                                                      43.66147\n",
        "longitude                                                    -70.25533\n",
        "feature class                                                        P\n",
        "feature code                                                     PPLA2\n",
        "country code                                                        US\n",
        "cc2                                                                NaN\n",
        "admin1 code                                                         ME\n",
        "admin2 code                                                        005\n",
        "admin3 code                                                        NaN\n",
        "admin4 code                                                        NaN\n",
        "population                                                       66194\n",
        "elevation                                                           19\n",
        "dem                                                                 19\n",
        "timezone                                              America/New_York\n",
        "modification date                                           2011-05-14\n",
        "visited                                                          False\n",
        "Name: 20968, dtype: object"
       ]
      }
     ],
     "prompt_number": 491
    },
    {
     "cell_type": "code",
     "collapsed": false,
     "input": [
      "def get_neighboring(city):\n",
      "    near_cities = []\n",
      "    if edges.has_key(city):\n",
      "        for n in edges[city]:\n",
      "            near_cities.append(us_cities_filtered.iloc[n])\n",
      "        f = lambda x: '<' + city_to_uniq(x) + ',' + str(haversine(point, [x['latitude'], x['longitude']])) + '>'\n",
      "        return str(map(f, near_cities)).translate(None, '\\'')\n",
      "    else:\n",
      "        return '[]'"
     ],
     "language": "python",
     "metadata": {},
     "outputs": [],
     "prompt_number": 483
    },
    {
     "cell_type": "code",
     "collapsed": false,
     "input": [
      "def city_to_string(x):\n",
      "    city_number = us_cities_filtered.geonameid.tolist().index(x[0])\n",
      "    \n",
      "    return '[' + str(x['latitude']) + ',' + str(x['longitude']) + ',' + city_to_uniq(x) + ',' + str(get_neighboring(city_number)) + ',0]'\n",
      "\n",
      "cities_formatted = us_cities_filtered.apply(city_to_string,axis=1).tolist()\n",
      "np.savetxt('USCities.txt', cities_formatted, fmt='%s')"
     ],
     "language": "python",
     "metadata": {},
     "outputs": [
      {
       "ename": "IndexError",
       "evalue": "('index 585 is out of bounds for axis 0 with size 585', u'occurred at index 20968')",
       "output_type": "pyerr",
       "traceback": [
        "\u001b[1;31m---------------------------------------------------------------------------\u001b[0m\n\u001b[1;31mIndexError\u001b[0m                                Traceback (most recent call last)",
        "\u001b[1;32m<ipython-input-484-c0098730022f>\u001b[0m in \u001b[0;36m<module>\u001b[1;34m()\u001b[0m\n\u001b[0;32m      4\u001b[0m     \u001b[1;32mreturn\u001b[0m \u001b[1;34m'['\u001b[0m \u001b[1;33m+\u001b[0m \u001b[0mstr\u001b[0m\u001b[1;33m(\u001b[0m\u001b[0mx\u001b[0m\u001b[1;33m[\u001b[0m\u001b[1;34m'latitude'\u001b[0m\u001b[1;33m]\u001b[0m\u001b[1;33m)\u001b[0m \u001b[1;33m+\u001b[0m \u001b[1;34m','\u001b[0m \u001b[1;33m+\u001b[0m \u001b[0mstr\u001b[0m\u001b[1;33m(\u001b[0m\u001b[0mx\u001b[0m\u001b[1;33m[\u001b[0m\u001b[1;34m'longitude'\u001b[0m\u001b[1;33m]\u001b[0m\u001b[1;33m)\u001b[0m \u001b[1;33m+\u001b[0m \u001b[1;34m','\u001b[0m \u001b[1;33m+\u001b[0m \u001b[0mcity_to_uniq\u001b[0m\u001b[1;33m(\u001b[0m\u001b[0mx\u001b[0m\u001b[1;33m)\u001b[0m \u001b[1;33m+\u001b[0m \u001b[1;34m','\u001b[0m \u001b[1;33m+\u001b[0m \u001b[0mstr\u001b[0m\u001b[1;33m(\u001b[0m\u001b[0mget_neighboring\u001b[0m\u001b[1;33m(\u001b[0m\u001b[0mcity_number\u001b[0m\u001b[1;33m)\u001b[0m\u001b[1;33m)\u001b[0m \u001b[1;33m+\u001b[0m \u001b[1;34m',0]'\u001b[0m\u001b[1;33m\u001b[0m\u001b[0m\n\u001b[0;32m      5\u001b[0m \u001b[1;33m\u001b[0m\u001b[0m\n\u001b[1;32m----> 6\u001b[1;33m \u001b[0mcities_formatted\u001b[0m \u001b[1;33m=\u001b[0m \u001b[0mus_cities_filtered\u001b[0m\u001b[1;33m.\u001b[0m\u001b[0mapply\u001b[0m\u001b[1;33m(\u001b[0m\u001b[0mcity_to_string\u001b[0m\u001b[1;33m,\u001b[0m\u001b[0maxis\u001b[0m\u001b[1;33m=\u001b[0m\u001b[1;36m1\u001b[0m\u001b[1;33m)\u001b[0m\u001b[1;33m.\u001b[0m\u001b[0mtolist\u001b[0m\u001b[1;33m(\u001b[0m\u001b[1;33m)\u001b[0m\u001b[1;33m\u001b[0m\u001b[0m\n\u001b[0m\u001b[0;32m      7\u001b[0m \u001b[0mnp\u001b[0m\u001b[1;33m.\u001b[0m\u001b[0msavetxt\u001b[0m\u001b[1;33m(\u001b[0m\u001b[1;34m'USCities.txt'\u001b[0m\u001b[1;33m,\u001b[0m \u001b[0mcities_formatted\u001b[0m\u001b[1;33m,\u001b[0m \u001b[0mfmt\u001b[0m\u001b[1;33m=\u001b[0m\u001b[1;34m'%s'\u001b[0m\u001b[1;33m)\u001b[0m\u001b[1;33m\u001b[0m\u001b[0m\n",
        "\u001b[1;32m/opt/anaconda/lib/python2.7/site-packages/pandas/core/frame.pyc\u001b[0m in \u001b[0;36mapply\u001b[1;34m(self, func, axis, broadcast, raw, args, **kwds)\u001b[0m\n\u001b[0;32m   4414\u001b[0m                     \u001b[1;32mreturn\u001b[0m \u001b[0mself\u001b[0m\u001b[1;33m.\u001b[0m\u001b[0m_apply_raw\u001b[0m\u001b[1;33m(\u001b[0m\u001b[0mf\u001b[0m\u001b[1;33m,\u001b[0m \u001b[0maxis\u001b[0m\u001b[1;33m)\u001b[0m\u001b[1;33m\u001b[0m\u001b[0m\n\u001b[0;32m   4415\u001b[0m                 \u001b[1;32melse\u001b[0m\u001b[1;33m:\u001b[0m\u001b[1;33m\u001b[0m\u001b[0m\n\u001b[1;32m-> 4416\u001b[1;33m                     \u001b[1;32mreturn\u001b[0m \u001b[0mself\u001b[0m\u001b[1;33m.\u001b[0m\u001b[0m_apply_standard\u001b[0m\u001b[1;33m(\u001b[0m\u001b[0mf\u001b[0m\u001b[1;33m,\u001b[0m \u001b[0maxis\u001b[0m\u001b[1;33m)\u001b[0m\u001b[1;33m\u001b[0m\u001b[0m\n\u001b[0m\u001b[0;32m   4417\u001b[0m             \u001b[1;32melse\u001b[0m\u001b[1;33m:\u001b[0m\u001b[1;33m\u001b[0m\u001b[0m\n\u001b[0;32m   4418\u001b[0m                 \u001b[1;32mreturn\u001b[0m \u001b[0mself\u001b[0m\u001b[1;33m.\u001b[0m\u001b[0m_apply_broadcast\u001b[0m\u001b[1;33m(\u001b[0m\u001b[0mf\u001b[0m\u001b[1;33m,\u001b[0m \u001b[0maxis\u001b[0m\u001b[1;33m)\u001b[0m\u001b[1;33m\u001b[0m\u001b[0m\n",
        "\u001b[1;32m/opt/anaconda/lib/python2.7/site-packages/pandas/core/frame.pyc\u001b[0m in \u001b[0;36m_apply_standard\u001b[1;34m(self, func, axis, ignore_failures)\u001b[0m\n\u001b[0;32m   4489\u001b[0m                     \u001b[1;31m# no k defined yet\u001b[0m\u001b[1;33m\u001b[0m\u001b[1;33m\u001b[0m\u001b[0m\n\u001b[0;32m   4490\u001b[0m                     \u001b[1;32mpass\u001b[0m\u001b[1;33m\u001b[0m\u001b[0m\n\u001b[1;32m-> 4491\u001b[1;33m                 \u001b[1;32mraise\u001b[0m \u001b[0me\u001b[0m\u001b[1;33m\u001b[0m\u001b[0m\n\u001b[0m\u001b[0;32m   4492\u001b[0m \u001b[1;33m\u001b[0m\u001b[0m\n\u001b[0;32m   4493\u001b[0m \u001b[1;33m\u001b[0m\u001b[0m\n",
        "\u001b[1;31mIndexError\u001b[0m: ('index 585 is out of bounds for axis 0 with size 585', u'occurred at index 20968')"
       ]
      }
     ],
     "prompt_number": 484
    },
    {
     "cell_type": "code",
     "collapsed": false,
     "input": [],
     "language": "python",
     "metadata": {},
     "outputs": [],
     "prompt_number": 485
    },
    {
     "cell_type": "code",
     "collapsed": false,
     "input": [
      "us_cities_filtered.iloc[76][0]"
     ],
     "language": "python",
     "metadata": {},
     "outputs": [
      {
       "metadata": {},
       "output_type": "pyout",
       "prompt_number": 412,
       "text": [
        "geonameid                                                      4265737\n",
        "name                                                       Terre Haute\n",
        "asciiname                                                  Terre Haute\n",
        "alternatenames       HUF,Tera Khout,Tere Khout,Terra Alta,Terre-Kho...\n",
        "latitude                                                       39.4667\n",
        "longitude                                                    -87.41391\n",
        "feature class                                                        P\n",
        "feature code                                                     PPLA2\n",
        "country code                                                        US\n",
        "cc2                                                                NaN\n",
        "admin1 code                                                         IN\n",
        "admin2 code                                                        167\n",
        "admin3 code                                                        NaN\n",
        "admin4 code                                                        NaN\n",
        "population                                                       60785\n",
        "elevation                                                          152\n",
        "dem                                                                152\n",
        "timezone                                  America/Indiana/Indianapolis\n",
        "modification date                                           2011-05-14\n",
        "visited                                                          False\n",
        "Name: 20075, dtype: object"
       ]
      }
     ],
     "prompt_number": 412
    },
    {
     "cell_type": "code",
     "collapsed": false,
     "input": [],
     "language": "python",
     "metadata": {},
     "outputs": []
    }
   ],
   "metadata": {}
  }
 ]
}