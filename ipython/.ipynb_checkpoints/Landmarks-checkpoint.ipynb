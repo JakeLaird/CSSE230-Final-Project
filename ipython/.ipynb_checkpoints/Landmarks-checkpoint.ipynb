{
 "metadata": {
  "name": "",
  "signature": "sha256:71e8f533548c55ec94f4b22ebed443aa068667ecf0f7a8fcd14f81fedc1929db"
 },
 "nbformat": 3,
 "nbformat_minor": 0,
 "worksheets": [
  {
   "cells": [
    {
     "cell_type": "code",
     "collapsed": false,
     "input": [
      "import pandas as pd\n",
      "import geopandas as gp\n",
      "import numpy as np\n",
      "import scipy.spatial as sc\n",
      "import networkx as nx\n",
      "from math import radians, cos, sin, asin, sqrt\n",
      "import random\n",
      "import numexpr as ne\n",
      "from scipy.sparse import csr_matrix\n",
      "from scipy.sparse.csgraph import minimum_spanning_tree\n",
      "from scipy.sparse.csgraph import breadth_first_tree\n",
      "from scipy.sparse.csgraph import depth_first_tree"
     ],
     "language": "python",
     "metadata": {},
     "outputs": [],
     "prompt_number": 15
    },
    {
     "cell_type": "code",
     "collapsed": false,
     "input": [
      "def haversine(pt1, pt2):\n",
      "    \"\"\"\n",
      "    Calculate the great circle distance between two points \n",
      "    on the earth (specified in decimal degrees)\n",
      "    \"\"\"\n",
      "    lat1, lon1 = pt1\n",
      "    lat2, lon2 = pt2\n",
      "    # convert decimal degrees to radians \n",
      "    lon1, lat1, lon2, lat2 = map(radians, [lon1, lat1, lon2, lat2])\n",
      "\n",
      "    # haversine formula \n",
      "    dlon = lon2 - lon1 \n",
      "    dlat = lat2 - lat1 \n",
      "    a = sin(dlat/2)**2 + cos(lat1) * cos(lat2) * sin(dlon/2)**2\n",
      "    c = 2 * asin(sqrt(a)) \n",
      "    r = 6371 # Radius of earth in kilometers. Use 3956 for miles\n",
      "    return c * r"
     ],
     "language": "python",
     "metadata": {},
     "outputs": [],
     "prompt_number": 11
    },
    {
     "cell_type": "code",
     "collapsed": false,
     "input": [
      "roads_data = gp.read_file('tl_2014_us_primaryroads.shp')"
     ],
     "language": "python",
     "metadata": {},
     "outputs": [],
     "prompt_number": 52
    },
    {
     "cell_type": "code",
     "collapsed": false,
     "input": [
      "roads_data = roads_data[roads_data['RTTYP']=='I']"
     ],
     "language": "python",
     "metadata": {},
     "outputs": [],
     "prompt_number": 3
    },
    {
     "cell_type": "code",
     "collapsed": false,
     "input": [
      "b = []\n",
      "a = [roads_data[roads_data['FULLNAME']=='I- 74'].iloc[0]['geometry']]\n",
      "a = roads_data[roads_data['FULLNAME']=='I- 74'].head(2)['geometry']\n",
      "for i in a:\n",
      "    for c in i.coords:\n",
      "        b.append(list(c))"
     ],
     "language": "python",
     "metadata": {},
     "outputs": [],
     "prompt_number": 62
    },
    {
     "cell_type": "code",
     "collapsed": false,
     "input": [
      "formatted_cities = []\n",
      "for i in range(len(b)):\n",
      "    point = list(b[i])\n",
      "    formatted_cities.append('[' + str(point[1]) + ',' + str(point[0]) + ',' + str(i) + 'a,' + '[<' + str(i+1) + 'a,0>],0]')"
     ],
     "language": "python",
     "metadata": {},
     "outputs": [],
     "prompt_number": 63
    },
    {
     "cell_type": "code",
     "collapsed": false,
     "input": [
      "np.savetxt('USCities.txt', formatted_cities, fmt='%s')"
     ],
     "language": "python",
     "metadata": {},
     "outputs": [],
     "prompt_number": 64
    },
    {
     "cell_type": "code",
     "collapsed": false,
     "input": [
      "roads_data[roads_data['FULLNAME']=='I- 74'].head(2)"
     ],
     "language": "python",
     "metadata": {},
     "outputs": [
      {
       "html": [
        "<div style=\"max-height:1000px;max-width:1500px;overflow:auto;\">\n",
        "<table border=\"1\" class=\"dataframe\">\n",
        "  <thead>\n",
        "    <tr style=\"text-align: right;\">\n",
        "      <th></th>\n",
        "      <th>FULLNAME</th>\n",
        "      <th>LINEARID</th>\n",
        "      <th>MTFCC</th>\n",
        "      <th>RTTYP</th>\n",
        "      <th>geometry</th>\n",
        "    </tr>\n",
        "  </thead>\n",
        "  <tbody>\n",
        "    <tr>\n",
        "      <th>313</th>\n",
        "      <td> I- 74</td>\n",
        "      <td> 110380862355</td>\n",
        "      <td> S1100</td>\n",
        "      <td> I</td>\n",
        "      <td> LINESTRING (-88.60896099999999 40.239325, -88....</td>\n",
        "    </tr>\n",
        "    <tr>\n",
        "      <th>419</th>\n",
        "      <td> I- 74</td>\n",
        "      <td> 110169598915</td>\n",
        "      <td> S1100</td>\n",
        "      <td> I</td>\n",
        "      <td> LINESTRING (-87.94013999999999 40.120210999999...</td>\n",
        "    </tr>\n",
        "  </tbody>\n",
        "</table>\n",
        "</div>"
       ],
       "metadata": {},
       "output_type": "pyout",
       "prompt_number": 60,
       "text": [
        "    FULLNAME      LINEARID  MTFCC RTTYP  \\\n",
        "313    I- 74  110380862355  S1100     I   \n",
        "419    I- 74  110169598915  S1100     I   \n",
        "\n",
        "                                              geometry  \n",
        "313  LINESTRING (-88.60896099999999 40.239325, -88....  \n",
        "419  LINESTRING (-87.94013999999999 40.120210999999...  "
       ]
      }
     ],
     "prompt_number": 60
    },
    {
     "cell_type": "code",
     "collapsed": false,
     "input": [
      "points = zip(a.iloc[0].xy[0], a.iloc[0].xy[1])\n",
      "kd_line = sc.KDTree(points)"
     ],
     "language": "python",
     "metadata": {},
     "outputs": [],
     "prompt_number": 6
    },
    {
     "cell_type": "code",
     "collapsed": false,
     "input": [
      "for c in a.iloc[0].coords:\n",
      "    \n",
      "kd_line.query(np.array([-88.608961,40.239325]),2)[1]"
     ],
     "language": "python",
     "metadata": {},
     "outputs": [
      {
       "ename": "IndentationError",
       "evalue": "expected an indented block (<ipython-input-32-1431dbd5f739>, line 3)",
       "output_type": "pyerr",
       "traceback": [
        "\u001b[1;36m  File \u001b[1;32m\"<ipython-input-32-1431dbd5f739>\"\u001b[1;36m, line \u001b[1;32m3\u001b[0m\n\u001b[1;33m    kd_line.query(np.array([-88.608961,40.239325]),2)[1]\u001b[0m\n\u001b[1;37m          ^\u001b[0m\n\u001b[1;31mIndentationError\u001b[0m\u001b[1;31m:\u001b[0m expected an indented block\n"
       ]
      }
     ],
     "prompt_number": 32
    },
    {
     "cell_type": "code",
     "collapsed": false,
     "input": [
      "g = nx.from_dict_of_dicts({0: {1:{'weight':1}}})\n",
      "minimum_spanning_tree(nx.to_scipy_sparse_matrix(g))"
     ],
     "language": "python",
     "metadata": {},
     "outputs": [
      {
       "metadata": {},
       "output_type": "pyout",
       "prompt_number": 21,
       "text": [
        "<2x2 sparse matrix of type '<type 'numpy.float64'>'\n",
        "\twith 1 stored elements in Compressed Sparse Row format>"
       ]
      }
     ],
     "prompt_number": 21
    },
    {
     "cell_type": "code",
     "collapsed": false,
     "input": [],
     "language": "python",
     "metadata": {},
     "outputs": [],
     "prompt_number": 57
    },
    {
     "cell_type": "code",
     "collapsed": false,
     "input": [],
     "language": "python",
     "metadata": {},
     "outputs": []
    }
   ],
   "metadata": {}
  }
 ]
}