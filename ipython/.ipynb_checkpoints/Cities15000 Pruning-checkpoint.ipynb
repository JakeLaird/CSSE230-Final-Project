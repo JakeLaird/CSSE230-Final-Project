{
 "metadata": {
  "name": "",
  "signature": "sha256:e48eb61d82cc8de46a5b1930d0864504400b5b5c67818f67590ef9d20a6831e8"
 },
 "nbformat": 3,
 "nbformat_minor": 0,
 "worksheets": [
  {
   "cells": [
    {
     "cell_type": "code",
     "collapsed": false,
     "input": [
      "import pandas as pd\n",
      "import numpy as np\n",
      "import scipy.spatial as sc\n",
      "from math import radians, cos, sin, asin, sqrt\n",
      "import random\n",
      "from scipy.sparse import csr_matrix\n",
      "from scipy.sparse.csgraph import minimum_spanning_tree\n",
      "from scipy.sparse.csgraph import breadth_first_tree\n",
      "from scipy.sparse.csgraph import depth_first_tree\n",
      "import re\n",
      "import numexpr as ne"
     ],
     "language": "python",
     "metadata": {},
     "outputs": [],
     "prompt_number": 2
    },
    {
     "cell_type": "code",
     "collapsed": false,
     "input": [
      "def haversine(pt1, pt2):\n",
      "    \"\"\"\n",
      "    Calculate the great circle distance between two points \n",
      "    on the earth (specified in decimal degrees)\n",
      "    \"\"\"\n",
      "    lat1, lon1 = pt1\n",
      "    lat2, lon2 = pt2\n",
      "    # convert decimal degrees to radians \n",
      "    lon1, lat1, lon2, lat2 = map(radians, [lon1, lat1, lon2, lat2])\n",
      "\n",
      "    # haversine formula \n",
      "    dlon = lon2 - lon1 \n",
      "    dlat = lat2 - lat1 \n",
      "    a = sin(dlat/2)**2 + cos(lat1) * cos(lat2) * sin(dlon/2)**2\n",
      "    c = 2 * asin(sqrt(a)) \n",
      "    r = 6371 # Radius of earth in kilometers. Use 3956 for miles\n",
      "    return c * r"
     ],
     "language": "python",
     "metadata": {},
     "outputs": [],
     "prompt_number": 3
    },
    {
     "cell_type": "code",
     "collapsed": false,
     "input": [
      "cities = pd.read_csv('cities15000.txt',sep='\\t',names=['geonameid','name','asciiname','alternatenames','latitude','longitude','feature class','feature code','country code','cc2','admin1 code','admin2 code','admin3 code','admin4 code','population','elevation','dem','timezone','modification date'])"
     ],
     "language": "python",
     "metadata": {},
     "outputs": [],
     "prompt_number": 4
    },
    {
     "cell_type": "code",
     "collapsed": false,
     "input": [
      "us_cities = cities[cities['country code']=='US']\n",
      "us_cities_filtered = us_cities[~us_cities['asciiname'].str.contains(',')]\n",
      "us_cities_filtered = us_cities_filtered[~us_cities_filtered['asciiname'].str.contains('\\'')]\n",
      "us_cities_filtered = us_cities_filtered[us_cities_filtered['population']>60000]\n",
      "us_cities_filtered = us_cities_filtered[us_cities_filtered['admin1 code']!='AK']\n",
      "us_cities_filtered = us_cities_filtered[us_cities_filtered['admin1 code']!='HI']"
     ],
     "language": "python",
     "metadata": {},
     "outputs": [],
     "prompt_number": 5
    },
    {
     "cell_type": "code",
     "collapsed": false,
     "input": [
      "latlon = zip(us_cities_filtered['latitude'].tolist(), us_cities_filtered['longitude'].tolist())\n",
      "kd_cities = sc.KDTree(latlon)"
     ],
     "language": "python",
     "metadata": {},
     "outputs": [],
     "prompt_number": 6
    },
    {
     "cell_type": "code",
     "collapsed": false,
     "input": [
      "filtered_landmarks = pd.read_pickle('FilteredLandmarks.pickle')\n",
      "points = zip(map(float, filtered_landmarks.INTPTLAT.tolist()), map(float, filtered_landmarks.INTPTLON.tolist()))\n",
      "kd_landmarks = sc.KDTree(points)"
     ],
     "language": "python",
     "metadata": {},
     "outputs": [],
     "prompt_number": 7
    },
    {
     "cell_type": "code",
     "collapsed": false,
     "input": [
      "def city_to_uniq(city):\n",
      "    return city['asciiname'] + '_' + str(city['admin1 code'])"
     ],
     "language": "python",
     "metadata": {},
     "outputs": [],
     "prompt_number": 8
    },
    {
     "cell_type": "code",
     "collapsed": false,
     "input": [
      "def get_interest(city):\n",
      "    point =[float(city['latitude']),float(city['longitude'])]\n",
      "    neighbors = np.matrix(kd_landmarks.query(np.array(point), 5))        \n",
      "    return [int(pow(np.sum(np.divide(5.0,neighbors[0])) + int(city['population'])/5000.0,0.35)), neighbors[1].tolist()]\n",
      "\n",
      "def get_interest_landmark(lm):\n",
      "    point =[float(lm['INTPTLAT']),float(lm['INTPTLON'])]\n",
      "    neighbors = kd_cities.query(np.array(point), 5)\n",
      "    f = lambda x: us_cities_filtered.iloc[int(x)]['population']\n",
      "    neighbors = [neighbors[0], np.array(map(f, neighbors[1].tolist()))]\n",
      "    return np.mean(pow(np.divide(1.0,100.0*neighbors[0])*neighbors[1],0.2))"
     ],
     "language": "python",
     "metadata": {},
     "outputs": [],
     "prompt_number": 9
    },
    {
     "cell_type": "code",
     "collapsed": false,
     "input": [
      "def get_landmarks(indices, city):\n",
      "    point = [city['latitude'],city['longitude']]\n",
      "    return [[{'name': filtered_landmarks.iloc[int(x)]['FULLNAME'], \n",
      "              'cost': (1.2+0.2*sin(i))*\n",
      "              haversine(point, [float(filtered_landmarks.iloc[int(x)]['INTPTLAT']), \n",
      "                                float(filtered_landmarks.iloc[int(x)]['INTPTLON'])])}] for x in indices[0]]\n",
      "\n",
      "def landmark_to_uniq(l):\n",
      "    return l['FULLNAME']# + '_' + str(l['admin1 code'])"
     ],
     "language": "python",
     "metadata": {},
     "outputs": [],
     "prompt_number": 10
    },
    {
     "cell_type": "code",
     "collapsed": false,
     "input": [
      "def get_nearest_cities(city):\n",
      "    point = [city['latitude'],city['longitude']]\n",
      "\n",
      "    nearest = kd_cities.query(np.array(point), k=2, eps=1.0)\n",
      "    \n",
      "    near_cities = us_cities_filtered.iloc[nearest[1][1:]]\n",
      "    f = lambda x: pd.Series(dict(name=city_to_uniq(x), distance=haversine(point, [x['latitude'], x['longitude']])))\n",
      "    return near_cities.apply(f, axis=1)"
     ],
     "language": "python",
     "metadata": {},
     "outputs": [],
     "prompt_number": 11
    },
    {
     "cell_type": "code",
     "collapsed": false,
     "input": [
      "# speed limits in km/h\n",
      "speeds = [97, 105, 113, 121]\n",
      "speed_list = {}\n",
      "for i in range(len(us_cities_filtered)):\n",
      "    x = us_cities_filtered.iloc[i]\n",
      "    speed_list[city_to_uniq(x)] = random.choice(speeds)"
     ],
     "language": "python",
     "metadata": {},
     "outputs": [],
     "prompt_number": 12
    },
    {
     "cell_type": "code",
     "collapsed": false,
     "input": [
      "graph = []\n",
      "for i in range(len(us_cities_filtered)):\n",
      "    graph.append([])\n",
      "    for j in range(len(us_cities_filtered)):\n",
      "        graph[i].append(0)"
     ],
     "language": "python",
     "metadata": {},
     "outputs": [
      {
       "ename": "KeyboardInterrupt",
       "evalue": "",
       "output_type": "pyerr",
       "traceback": [
        "\u001b[1;31m---------------------------------------------------------------------------\u001b[0m\n\u001b[1;31mKeyboardInterrupt\u001b[0m                         Traceback (most recent call last)",
        "\u001b[1;32m<ipython-input-13-94be7619c487>\u001b[0m in \u001b[0;36m<module>\u001b[1;34m()\u001b[0m\n\u001b[0;32m      3\u001b[0m     \u001b[0mgraph\u001b[0m\u001b[1;33m.\u001b[0m\u001b[0mappend\u001b[0m\u001b[1;33m(\u001b[0m\u001b[1;33m[\u001b[0m\u001b[1;33m]\u001b[0m\u001b[1;33m)\u001b[0m\u001b[1;33m\u001b[0m\u001b[0m\n\u001b[0;32m      4\u001b[0m     \u001b[1;32mfor\u001b[0m \u001b[0mj\u001b[0m \u001b[1;32min\u001b[0m \u001b[0mrange\u001b[0m\u001b[1;33m(\u001b[0m\u001b[0mlen\u001b[0m\u001b[1;33m(\u001b[0m\u001b[0mus_cities_filtered\u001b[0m\u001b[1;33m)\u001b[0m\u001b[1;33m)\u001b[0m\u001b[1;33m:\u001b[0m\u001b[1;33m\u001b[0m\u001b[0m\n\u001b[1;32m----> 5\u001b[1;33m         \u001b[0mgraph\u001b[0m\u001b[1;33m[\u001b[0m\u001b[0mi\u001b[0m\u001b[1;33m]\u001b[0m\u001b[1;33m.\u001b[0m\u001b[0mappend\u001b[0m\u001b[1;33m(\u001b[0m\u001b[1;36m0\u001b[0m\u001b[1;33m)\u001b[0m\u001b[1;33m\u001b[0m\u001b[0m\n\u001b[0m",
        "\u001b[1;31mKeyboardInterrupt\u001b[0m: "
       ]
      }
     ],
     "prompt_number": 13
    },
    {
     "cell_type": "code",
     "collapsed": false,
     "input": [
      "for i in range(len(us_cities_filtered)):\n",
      "    for j in range(len(us_cities_filtered)):\n",
      "        x = us_cities_filtered.iloc[i]\n",
      "        y = us_cities_filtered.iloc[j]\n",
      "        graph[i][j] = haversine([x['latitude'], x['longitude']], [y['latitude'], y['longitude']])"
     ],
     "language": "python",
     "metadata": {},
     "outputs": []
    },
    {
     "cell_type": "code",
     "collapsed": false,
     "input": [
      "index_matrix = np.matrix(np.arange(len(us_cities_filtered)**2).reshape((len(us_cities_filtered),len(us_cities_filtered))))"
     ],
     "language": "python",
     "metadata": {},
     "outputs": []
    },
    {
     "cell_type": "code",
     "collapsed": false,
     "input": [
      "sin_matrix = (1.5 + 0.4*np.sin(index_matrix))\n",
      "cos_matrix = (1.5 + 0.4*np.cos(index_matrix))"
     ],
     "language": "python",
     "metadata": {},
     "outputs": []
    },
    {
     "cell_type": "code",
     "collapsed": false,
     "input": [
      "graphs = []\n",
      "graphs.append(minimum_spanning_tree(csr_matrix(graph)).toarray())\n",
      "graphs.append(minimum_spanning_tree(csr_matrix(np.multiply(np.matrix(graph),sin_matrix))).toarray())\n",
      "graphs.append(minimum_spanning_tree(csr_matrix(np.multiply(np.matrix(graph),cos_matrix))).toarray())"
     ],
     "language": "python",
     "metadata": {},
     "outputs": []
    },
    {
     "cell_type": "code",
     "collapsed": false,
     "input": [
      "formatted_cities = pd.DataFrame()\n",
      "landmarks_to_add = []\n",
      "for g in graphs:\n",
      "    for i in range(len(us_cities_filtered)):\n",
      "        temp = {}\n",
      "        city = us_cities_filtered.iloc[i]\n",
      "        temp['latitude'] = city['latitude']\n",
      "        temp['longitude'] = city['longitude']\n",
      "        temp['name'] = city_to_uniq(city)\n",
      "        city_connections = [[city, 0.0]]\n",
      "        for j in range(len(us_cities_filtered)):\n",
      "            if g[i][j] > 0:\n",
      "                y = us_cities_filtered.iloc[j]\n",
      "                city_connections.append([y, g[i][j]])\n",
      "        point = [city['latitude'],city['longitude']]\n",
      "        temp['neighbors'] = [[{'name': city_to_uniq(x[0]), 'cost': (1.2+0.2*sin(i))*x[1]}] for x in city_connections]\n",
      "        interest_result = get_interest(city)\n",
      "        for landmark in interest_result[1][0]:\n",
      "            landmarks_to_add.append(int(landmark))\n",
      "        temp['interest'] = interest_result[0]\n",
      "        temp['neighbors']+=(get_landmarks(interest_result[1], city))\n",
      "        formatted_cities = formatted_cities.append(pd.DataFrame(temp))\n",
      "   \n",
      "formatted_landmarks = pd.DataFrame()\n",
      "for landmark_index in set(landmarks_to_add):\n",
      "    temp = {}\n",
      "    lm = filtered_landmarks.iloc[landmark_index]\n",
      "    temp['latitude'] = float(lm['INTPTLAT'])\n",
      "    temp['longitude'] = float(lm['INTPTLON'])\n",
      "    temp['name'] = [str(lm['FULLNAME']).encode('ascii','ignore')]\n",
      "    temp['interest'] = int(get_interest_landmark(lm))\n",
      "    temp['neighbors'] = [[]]\n",
      "    formatted_landmarks = formatted_landmarks.append(pd.DataFrame(temp))"
     ],
     "language": "python",
     "metadata": {},
     "outputs": []
    },
    {
     "cell_type": "code",
     "collapsed": false,
     "input": [
      "def trim_duplicates(l):\n",
      "    connections = {}\n",
      "    for e in l:\n",
      "        if e['cost'] <= 0.0:\n",
      "            continue;\n",
      "        if e['name'] not in connections or connections[e['name']] > e['cost']:\n",
      "            connections[e['name']] = e['cost']\n",
      "    return connections\n",
      "            \n",
      "a = formatted_cities.groupby(['name', 'latitude', 'longitude', 'interest'])\n",
      "output_cities = pd.DataFrame([list(k)+[trim_duplicates(v[\"neighbors\"].sum())] for k, v in a],\n",
      "                     columns=['name', 'latitude', 'longitude', 'interest', 'neighbors'])"
     ],
     "language": "python",
     "metadata": {},
     "outputs": []
    },
    {
     "cell_type": "code",
     "collapsed": false,
     "input": [
      "cols = ['latitude', 'longitude', 'name', 'neighbors', 'interest']\n",
      "string_cities = []\n",
      "for a in output_cities[cols].iterrows():\n",
      "    row = a[1]\n",
      "    row['neighbors'] = ['<' + str(k) + ',' + str(v) + ',' + str((60.0 * v)/speed_list[row['name']]) + '>' for k,v in row['neighbors'].iteritems()]\n",
      "    string_cities.append(str(row.tolist()).translate(None, '\\'').translate(None, '\"'))\n",
      "\n",
      "for a in formatted_landmarks[cols].iterrows():\n",
      "    string_cities.append(str(a[1].tolist()).translate(None, '\\'').translate(None, '\"'))\n",
      "    \n",
      "np.savetxt('USCities.txt', string_cities, fmt='%s')"
     ],
     "language": "python",
     "metadata": {},
     "outputs": []
    },
    {
     "cell_type": "code",
     "collapsed": false,
     "input": [
      "# length = len(us_cities_filtered)\n",
      "# cities = us_cities_filtered.head(length)\n",
      "\n",
      "# phi1 = np.tile(np.matrix(cities['latitude'].tolist()),length).reshape((length, length))\n",
      "# phi2 = np.tile(np.matrix(cities['latitude'].tolist()).transpose(),length).reshape((length, length))\n",
      "\n",
      "# lambda1 = np.tile(np.matrix(cities['longitude'].tolist()),length).reshape((length, length))\n",
      "# lambda2 = np.tile(np.matrix(cities['longitude'].tolist()).transpose(),length).reshape((length, length))\n",
      "# # print phi1\n",
      "# # print lambda1\n",
      "# # print phi2\n",
      "# # print lambda2"
     ],
     "language": "python",
     "metadata": {},
     "outputs": []
    },
    {
     "cell_type": "code",
     "collapsed": false,
     "input": [
      "# res = ne.evaluate(\"2*6371*arcsin(sqrt(sin((phi2-phi1)/2)**2 + cos(phi1)*cos(phi2)*(sin((lambda2-lambda1)/2)**2)))\") \n",
      "# res.shape"
     ],
     "language": "python",
     "metadata": {},
     "outputs": []
    },
    {
     "cell_type": "code",
     "collapsed": false,
     "input": [],
     "language": "python",
     "metadata": {},
     "outputs": []
    }
   ],
   "metadata": {}
  }
 ]
}